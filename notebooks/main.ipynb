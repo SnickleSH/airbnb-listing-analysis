{
 "cells": [
  {
   "cell_type": "markdown",
   "metadata": {},
   "source": [
    "# AirBNB Listing Analysis"
   ]
  },
  {
   "cell_type": "markdown",
   "metadata": {},
   "source": [
    "# Imports"
   ]
  },
  {
   "cell_type": "code",
   "execution_count": 24,
   "metadata": {},
   "outputs": [],
   "source": [
    "import pandas as pd\n",
    "import os"
   ]
  },
  {
   "cell_type": "markdown",
   "metadata": {},
   "source": [
    "### Objective 1: Profile & QA the data\n",
    "\n",
    "* **Task 1: Import/Open the `Listings.csv` file**\n",
    "    * Read the `Listings.csv` file into a Pandas DataFrame."
   ]
  },
  {
   "cell_type": "markdown",
   "metadata": {},
   "source": [
    "* **Task 2: Cast any date columns as a datetime format**\n",
    "    * Convert the 'host_since' column to datetime format."
   ]
  },
  {
   "cell_type": "code",
   "execution_count": 25,
   "metadata": {},
   "outputs": [],
   "source": [
    "base_dir = os.path.dirname(os.getcwd())\n",
    "df = pd.read_csv(os.path.join(base_dir, 'data', 'raw', 'Listings.csv'), encoding='ISO-8859-1', low_memory=False, parse_dates=['host_since'])"
   ]
  },
  {
   "cell_type": "code",
   "execution_count": 26,
   "metadata": {},
   "outputs": [
    {
     "data": {
      "text/plain": [
       "<bound method NDFrame.head of         listing_id                                               name  \\\n",
       "0           281420     Beautiful Flat in le Village Montmartre, Paris   \n",
       "1          3705183                    39 mÃÂ² Paris (Sacre CÃ\n",
       "âur)   \n",
       "2          4082273                Lovely apartment with Terrace, 60m2   \n",
       "3          4797344                Cosy studio (close to Eiffel tower)   \n",
       "4          4823489   Close to Eiffel Tower - Beautiful flat : 2 rooms   \n",
       "...            ...                                                ...   \n",
       "279707    38338635  Appartement T2 neuf prÃÂ¨s du tram T3a Porte ...   \n",
       "279708    38538692                          Cozy Studio in Montmartre   \n",
       "279709    38683356            Nice and cosy mini-appartement in Paris   \n",
       "279710    39659000  Charming apartment near Rue Saint Maur / Oberk...   \n",
       "279711    40219504        Cosy apartment with view on Canal St Martin   \n",
       "\n",
       "         host_id host_since                 host_location host_response_time  \\\n",
       "0        1466919 2011-12-03  Paris, Ile-de-France, France                NaN   \n",
       "1       10328771 2013-11-29  Paris, Ile-de-France, France                NaN   \n",
       "2       19252768 2014-07-31  Paris, Ile-de-France, France                NaN   \n",
       "3       10668311 2013-12-17  Paris, Ile-de-France, France                NaN   \n",
       "4       24837558 2014-12-14  Paris, Ile-de-France, France                NaN   \n",
       "...          ...        ...                           ...                ...   \n",
       "279707  31161181 2015-04-13  Paris, Ile-de-France, France                NaN   \n",
       "279708  10294858 2013-11-27  Paris, Ile-de-France, France                NaN   \n",
       "279709   2238502 2012-04-27  Paris, Ile-de-France, France                NaN   \n",
       "279710  38633695 2015-07-16  Paris, Ile-de-France, France                NaN   \n",
       "279711   6955618 2013-06-17  Paris, Ile-de-France, France                NaN   \n",
       "\n",
       "        host_response_rate  host_acceptance_rate host_is_superhost  \\\n",
       "0                      NaN                   NaN                 f   \n",
       "1                      NaN                   NaN                 f   \n",
       "2                      NaN                   NaN                 f   \n",
       "3                      NaN                   NaN                 f   \n",
       "4                      NaN                   NaN                 f   \n",
       "...                    ...                   ...               ...   \n",
       "279707                 NaN                   NaN                 f   \n",
       "279708                 NaN                   NaN                 f   \n",
       "279709                 NaN                   NaN                 f   \n",
       "279710                 NaN                   NaN                 f   \n",
       "279711                 NaN                   NaN                 f   \n",
       "\n",
       "        host_total_listings_count  ... minimum_nights maximum_nights  \\\n",
       "0                             1.0  ...              2           1125   \n",
       "1                             1.0  ...              2           1125   \n",
       "2                             1.0  ...              2           1125   \n",
       "3                             1.0  ...              2           1125   \n",
       "4                             1.0  ...              2           1125   \n",
       "...                           ...  ...            ...            ...   \n",
       "279707                        1.0  ...              1              7   \n",
       "279708                        1.0  ...              7             15   \n",
       "279709                        1.0  ...              6             30   \n",
       "279710                        1.0  ...              3             18   \n",
       "279711                        1.0  ...              2              4   \n",
       "\n",
       "       review_scores_rating review_scores_accuracy review_scores_cleanliness  \\\n",
       "0                     100.0                   10.0                      10.0   \n",
       "1                     100.0                   10.0                      10.0   \n",
       "2                     100.0                   10.0                      10.0   \n",
       "3                     100.0                   10.0                      10.0   \n",
       "4                     100.0                   10.0                      10.0   \n",
       "...                     ...                    ...                       ...   \n",
       "279707                100.0                   10.0                      10.0   \n",
       "279708                100.0                   10.0                      10.0   \n",
       "279709                100.0                   10.0                      10.0   \n",
       "279710                100.0                   10.0                      10.0   \n",
       "279711                100.0                   10.0                      10.0   \n",
       "\n",
       "        review_scores_checkin  review_scores_communication  \\\n",
       "0                        10.0                         10.0   \n",
       "1                        10.0                         10.0   \n",
       "2                        10.0                         10.0   \n",
       "3                        10.0                         10.0   \n",
       "4                        10.0                         10.0   \n",
       "...                       ...                          ...   \n",
       "279707                   10.0                         10.0   \n",
       "279708                   10.0                         10.0   \n",
       "279709                   10.0                         10.0   \n",
       "279710                   10.0                         10.0   \n",
       "279711                   10.0                         10.0   \n",
       "\n",
       "       review_scores_location review_scores_value  instant_bookable  \n",
       "0                        10.0                10.0                 f  \n",
       "1                        10.0                10.0                 f  \n",
       "2                        10.0                10.0                 f  \n",
       "3                        10.0                10.0                 f  \n",
       "4                        10.0                10.0                 f  \n",
       "...                       ...                 ...               ...  \n",
       "279707                   10.0                10.0                 f  \n",
       "279708                   10.0                10.0                 f  \n",
       "279709                   10.0                10.0                 f  \n",
       "279710                   10.0                10.0                 f  \n",
       "279711                   10.0                10.0                 f  \n",
       "\n",
       "[279712 rows x 33 columns]>"
      ]
     },
     "execution_count": 26,
     "metadata": {},
     "output_type": "execute_result"
    }
   ],
   "source": [
    "df.head"
   ]
  },
  {
   "cell_type": "markdown",
   "metadata": {},
   "source": [
    "* **Task 3: Filter the data down to rows where the city is Paris, and keep only the columns ‘host_since’, ‘neighbourhood’, ‘city’, ‘accommodates’, and ‘price’**\n",
    "    * Filter the DataFrame to include only rows where the 'city' column is 'Paris'.\n",
    "    * Select and retain only the specified columns."
   ]
  },
  {
   "cell_type": "code",
   "execution_count": 27,
   "metadata": {},
   "outputs": [
    {
     "data": {
      "text/plain": [
       "<bound method NDFrame.head of        host_since      neighbourhood   city  accommodates  price\n",
       "0      2011-12-03  Buttes-Montmartre  Paris             2     53\n",
       "1      2013-11-29  Buttes-Montmartre  Paris             2    120\n",
       "2      2014-07-31             Elysee  Paris             2     89\n",
       "3      2013-12-17          Vaugirard  Paris             2     58\n",
       "4      2014-12-14              Passy  Paris             2     60\n",
       "...           ...                ...    ...           ...    ...\n",
       "279707 2015-04-13       Observatoire  Paris             2    120\n",
       "279708 2013-11-27  Buttes-Montmartre  Paris             2     60\n",
       "279709 2012-04-27  Buttes-Montmartre  Paris             2     50\n",
       "279710 2015-07-16         Popincourt  Paris             2    105\n",
       "279711 2013-06-17  Enclos-St-Laurent  Paris             2     70\n",
       "\n",
       "[64690 rows x 5 columns]>"
      ]
     },
     "execution_count": 27,
     "metadata": {},
     "output_type": "execute_result"
    }
   ],
   "source": [
    "df = df[['host_since', 'neighbourhood', 'city', 'accommodates', 'price']]\n",
    "df = df[df['city'] == 'Paris']\n",
    "df.head"
   ]
  },
  {
   "cell_type": "markdown",
   "metadata": {},
   "source": [
    "* **Task 4: QA the Paris listings data: check for missing values, and calculate the minimum, maximum, and average for each numeric field**\n",
    "    * Check for missing values in the filtered DataFrame.\n",
    "    * Calculate the minimum, maximum, and average values for the 'accommodates' and 'price' columns."
   ]
  },
  {
   "cell_type": "code",
   "execution_count": 31,
   "metadata": {},
   "outputs": [
    {
     "data": {
      "text/plain": [
       "host_since       33\n",
       "neighbourhood     0\n",
       "city              0\n",
       "accommodates      0\n",
       "price             0\n",
       "dtype: int64"
      ]
     },
     "execution_count": 31,
     "metadata": {},
     "output_type": "execute_result"
    }
   ],
   "source": [
    "df.isnull().sum()"
   ]
  },
  {
   "cell_type": "code",
   "execution_count": 30,
   "metadata": {},
   "outputs": [
    {
     "data": {
      "text/html": [
       "<div>\n",
       "<style scoped>\n",
       "    .dataframe tbody tr th:only-of-type {\n",
       "        vertical-align: middle;\n",
       "    }\n",
       "\n",
       "    .dataframe tbody tr th {\n",
       "        vertical-align: top;\n",
       "    }\n",
       "\n",
       "    .dataframe thead th {\n",
       "        text-align: right;\n",
       "    }\n",
       "</style>\n",
       "<table border=\"1\" class=\"dataframe\">\n",
       "  <thead>\n",
       "    <tr style=\"text-align: right;\">\n",
       "      <th></th>\n",
       "      <th>host_since</th>\n",
       "      <th>accommodates</th>\n",
       "      <th>price</th>\n",
       "    </tr>\n",
       "  </thead>\n",
       "  <tbody>\n",
       "    <tr>\n",
       "      <th>count</th>\n",
       "      <td>64657</td>\n",
       "      <td>64690.000000</td>\n",
       "      <td>64690.000000</td>\n",
       "    </tr>\n",
       "    <tr>\n",
       "      <th>mean</th>\n",
       "      <td>2015-11-01 11:06:05.528867584</td>\n",
       "      <td>3.037997</td>\n",
       "      <td>113.096445</td>\n",
       "    </tr>\n",
       "    <tr>\n",
       "      <th>min</th>\n",
       "      <td>2008-08-30 00:00:00</td>\n",
       "      <td>0.000000</td>\n",
       "      <td>0.000000</td>\n",
       "    </tr>\n",
       "    <tr>\n",
       "      <th>25%</th>\n",
       "      <td>2014-03-09 00:00:00</td>\n",
       "      <td>2.000000</td>\n",
       "      <td>59.000000</td>\n",
       "    </tr>\n",
       "    <tr>\n",
       "      <th>50%</th>\n",
       "      <td>2015-07-07 00:00:00</td>\n",
       "      <td>2.000000</td>\n",
       "      <td>80.000000</td>\n",
       "    </tr>\n",
       "    <tr>\n",
       "      <th>75%</th>\n",
       "      <td>2017-05-29 00:00:00</td>\n",
       "      <td>4.000000</td>\n",
       "      <td>120.000000</td>\n",
       "    </tr>\n",
       "    <tr>\n",
       "      <th>max</th>\n",
       "      <td>2021-02-07 00:00:00</td>\n",
       "      <td>16.000000</td>\n",
       "      <td>12000.000000</td>\n",
       "    </tr>\n",
       "    <tr>\n",
       "      <th>std</th>\n",
       "      <td>NaN</td>\n",
       "      <td>1.588766</td>\n",
       "      <td>214.433668</td>\n",
       "    </tr>\n",
       "  </tbody>\n",
       "</table>\n",
       "</div>"
      ],
      "text/plain": [
       "                          host_since  accommodates         price\n",
       "count                          64657  64690.000000  64690.000000\n",
       "mean   2015-11-01 11:06:05.528867584      3.037997    113.096445\n",
       "min              2008-08-30 00:00:00      0.000000      0.000000\n",
       "25%              2014-03-09 00:00:00      2.000000     59.000000\n",
       "50%              2015-07-07 00:00:00      2.000000     80.000000\n",
       "75%              2017-05-29 00:00:00      4.000000    120.000000\n",
       "max              2021-02-07 00:00:00     16.000000  12000.000000\n",
       "std                              NaN      1.588766    214.433668"
      ]
     },
     "execution_count": 30,
     "metadata": {},
     "output_type": "execute_result"
    }
   ],
   "source": [
    "df.describe()"
   ]
  },
  {
   "cell_type": "markdown",
   "metadata": {},
   "source": [
    "### Objective 2: Prepare the data for visualization\n",
    "\n",
    "* **Task 5: Create a table named `paris_listings_neighbourhood` that groups Paris listings by 'neighbourhood' and calculates the mean price (sorted low to high)**\n",
    "    * Group the filtered DataFrame by 'neighbourhood'.\n",
    "    * Calculate the mean price for each neighbourhood.\n",
    "    * Sort the results by mean price in ascending order."
   ]
  },
  {
   "cell_type": "markdown",
   "metadata": {},
   "source": [
    "* **Task 6: Create a table named `paris_listings_accomodations`, filter down to the most expensive neighborhood, group by the ‘accommodations’ column, and add the mean price for each value of ‘accommodates’ (sorted low to high)**\n",
    "    * Find the most expensive neighbourhood from the previous created table.\n",
    "    * Filter the paris listings data to only include the most expensive neighbourhood.\n",
    "    * Group the filtered DataFrame by 'accommodates'.\n",
    "    * Calculate the mean price for each 'accommodates' value.\n",
    "    * Sort the results by 'accommodates' in ascending order."
   ]
  },
  {
   "cell_type": "markdown",
   "metadata": {},
   "source": [
    "* **Task 7: Create a table called `paris_listings_over_time` grouped by the ‘host_since’ year, and calculate the average price and count of rows representing the number of new hosts**\n",
    "    * Extract the year from the 'host_since' column.\n",
    "    * Group the DataFrame by the extracted year.\n",
    "    * Calculate the average price and the count of rows (new hosts) for each year."
   ]
  },
  {
   "cell_type": "markdown",
   "metadata": {},
   "source": [
    "### Objective 3: Visualize the data and summarize findings\n",
    "\n",
    "* **Task 8: Create a horizontal bar chart of the average price by neighborhood in Paris, and make sure to add a title and change axis labels as needed**\n",
    "    * Use the `paris_listings_neighbourhood` DataFrame to create a horizontal bar chart.\n",
    "    * Add a title and appropriate axis labels."
   ]
  },
  {
   "cell_type": "markdown",
   "metadata": {},
   "source": [
    "* **Task 9: Create a horizontal bar chart of the average price by ‘accommodates’ in Paris’ most expensive neighborhood, and make sure to add a title and change axis labels as needed**\n",
    "    * Use the `paris_listings_accomodations` DataFrame to create a horizontal bar chart.\n",
    "    * Add a title and appropriate axis labels."
   ]
  },
  {
   "cell_type": "markdown",
   "metadata": {},
   "source": [
    "* **Task 10: Create two line charts: one showing the count of new hosts over time, and one showing average price. Set the y-axis limit to 0, add a title, and change axis labels as needed**\n",
    "    * Use the `paris_listings_over_time` DataFrame to create two line charts.\n",
    "    * Set the y-axis limit to 0 for both charts.\n",
    "    * Add titles and appropriate axis labels."
   ]
  },
  {
   "cell_type": "markdown",
   "metadata": {},
   "source": [
    "* **Task 11: Based on your findings, what insights do you have about the impact of the 2015 regulations on new hosts and prices?**\n",
    "    * Analyze the line charts to determine the impact of the 2015 regulations."
   ]
  },
  {
   "cell_type": "markdown",
   "metadata": {},
   "source": [
    "* **Task 12: BONUS: Create a dual axis line chart to show both new hosts and average price over time**\n",
    "    * Create a dual axis line chart from the paris_listings_over_time table."
   ]
  },
  {
   "cell_type": "markdown",
   "metadata": {},
   "source": [
    "### Final Step\n",
    "\n",
    "* **Final Project Question:**\n",
    "    * Which neighborhood in Paris has the highest average AirBnB listing price?"
   ]
  },
  {
   "cell_type": "markdown",
   "metadata": {},
   "source": []
  }
 ],
 "metadata": {
  "kernelspec": {
   "display_name": "Python 3",
   "language": "python",
   "name": "python3"
  },
  "language_info": {
   "codemirror_mode": {
    "name": "ipython",
    "version": 3
   },
   "file_extension": ".py",
   "mimetype": "text/x-python",
   "name": "python",
   "nbconvert_exporter": "python",
   "pygments_lexer": "ipython3",
   "version": "3.11.6"
  }
 },
 "nbformat": 4,
 "nbformat_minor": 2
}
